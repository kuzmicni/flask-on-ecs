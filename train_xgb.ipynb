{
 "cells": [
  {
   "cell_type": "code",
   "execution_count": 4,
   "metadata": {},
   "outputs": [
    {
     "name": "stdout",
     "output_type": "stream",
     "text": [
      "260.00012 374.99866\n"
     ]
    }
   ],
   "source": [
    "# Install Necessary Libraries inside the env\n",
    "import sys\n",
    "import os\n",
    "import pandas as pd\n",
    "from xgboost import XGBRegressor\n",
    "\n",
    "# 'y' target variable: 0 = wiener dog, 1 = german shepherd\n",
    "\n",
    "df = pd.DataFrame({'X':[1, 2, 5.5, 6, 8, 12],\n",
    "                   'y':[150, 260, 375, 400, 700, 750]})\n",
    "                    \n",
    "ml_model = XGBRegressor()\n",
    "ml_model.fit(df.X, df.y)\n",
    "\n",
    "#Let's see what a person with 300ft2 and 600ft2 will get recommended\n",
    "print(ml_model.predict([[2.5]])[0], ml_model.predict([[4.5]])[0])"
   ]
  },
  {
   "cell_type": "code",
   "execution_count": 5,
   "metadata": {},
   "outputs": [],
   "source": [
    "import pickle\n",
    "\n",
    "# Save the model to a file\n",
    "with open(\"model.pkl\", \"wb\") as file:\n",
    "    pickle.dump(ml_model, file)\n"
   ]
  },
  {
   "cell_type": "code",
   "execution_count": null,
   "metadata": {},
   "outputs": [],
   "source": []
  }
 ],
 "metadata": {
  "kernelspec": {
   "display_name": "py38demo",
   "language": "python",
   "name": "python3"
  },
  "language_info": {
   "codemirror_mode": {
    "name": "ipython",
    "version": 3
   },
   "file_extension": ".py",
   "mimetype": "text/x-python",
   "name": "python",
   "nbconvert_exporter": "python",
   "pygments_lexer": "ipython3",
   "version": "3.8.16"
  },
  "orig_nbformat": 4,
  "vscode": {
   "interpreter": {
    "hash": "86bf3dff969ab470487a1a69870b86d9ef813ef086f47ba3a61637ad995f5814"
   }
  }
 },
 "nbformat": 4,
 "nbformat_minor": 2
}
